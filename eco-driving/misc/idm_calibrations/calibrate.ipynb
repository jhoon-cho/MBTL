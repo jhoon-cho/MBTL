{
 "cells": [
  {
   "cell_type": "code",
   "execution_count": 37,
   "metadata": {},
   "outputs": [],
   "source": [
    "import arviz as az\n",
    "import numpy as np\n",
    "import pymc as pm\n",
    "import pytensor.tensor as tt\n",
    "import random\n",
    "import os\n",
    "import sys\n",
    "import matplotlib.pyplot as plt\n",
    "from dataloader import *\n",
    "sys.path.append('../')\n",
    "import warnings\n",
    "warnings.filterwarnings(\"ignore\")\n",
    "\n",
    "np.random.seed(1116)"
   ]
  },
  {
   "cell_type": "code",
   "execution_count": 38,
   "metadata": {},
   "outputs": [],
   "source": [
    "# car following models for cars or for trucks/busses? \n",
    "V_TYPE = \"CARS\" # CARS or TRUCKS\n",
    "ENABLE_EXTRA_LOGGING = True"
   ]
  },
  {
   "cell_type": "code",
   "execution_count": 39,
   "metadata": {},
   "outputs": [],
   "source": [
    "def Bayesian_IDM_pool(vt, s, dv, label_v):\n",
    "    print(\"training size:\", label_v.shape[0])\n",
    "    dt = (1 / 30) * FREQ\n",
    "\n",
    "    model = pm.Model()\n",
    "\n",
    "    D = 5\n",
    "    \n",
    "    with model:\n",
    "        def IDM_v(VMAX, DSAFE, TSAFE, AMAX, AMIN, DELTA, s, vt, dv):\n",
    "            sn = DSAFE + vt * TSAFE + vt * dv / (2 * np.sqrt(AMAX * AMIN))\n",
    "            a = AMAX * (1 - (vt / VMAX) ** DELTA - (sn / s) ** 2)\n",
    "            return vt + a * dt\n",
    "            \n",
    "            \n",
    "        if V_TYPE == \"CARS\":\n",
    "            mu_prior = pm.floatX(np.array([0, 0, 0, 0, 0]))\n",
    "        else:\n",
    "            mu_prior = np.log(np.array([0.0001, 0.1, 1.0, 0.001, 0.0001]))\n",
    "            \n",
    "        parameters_normalized = pm.MvNormal('mu_normalized', mu_prior, chol=np.eye(D))\n",
    "        \n",
    "        log_parameters = pm.Deterministic('log_mu', parameters_normalized*np.array([.3, 1., 1., .01, .5])\n",
    "                                      +np.array([2., 0.69, 0.47, -.3, .51]))\n",
    "       \n",
    "        parameters = pm.Deterministic('mu', tt.exp(log_parameters))\n",
    "        \n",
    "        DELTA = 4\n",
    "        \n",
    "        log_s_v = pm.Uniform('log_s_v', lower=-3.0, upper=-1.0)\n",
    "        s_v = pm.Deterministic('s_v', tt.exp(log_s_v))\n",
    "        \n",
    "        v_obs = pm.Normal('obs', mu=IDM_v(parameters[0], parameters[1], parameters[2], parameters[3],\n",
    "                                         parameters[4], DELTA, s, vt, dv), sigma=s_v, observed=label_v)\n",
    "        \n",
    "        tr = pm.sample(1000, tune=1000, random_seed=16, init='jitter+adapt_diag_grad', chains=2,\n",
    "                       cores=8, discard_tuned_samples=True, return_inferencedata=True, target_accept=0.90)\n",
    "    return tr, model"
   ]
  },
  {
   "cell_type": "code",
   "execution_count": 40,
   "metadata": {},
   "outputs": [
    {
     "name": "stdout",
     "output_type": "stream",
     "text": [
      "Cars: 2656 Trucks: 309\n",
      "Data count: 309\n",
      "Received data count: 309\n"
     ]
    }
   ],
   "source": [
    "data = pd.DataFrame()\n",
    "for file in os.listdir('Alafaya'):\n",
    "    if file.endswith('.csv'):\n",
    "        data = data.append(pd.read_csv('Alafaya/University@Alafaya-01.csv'))\n",
    "data = data.reset_index()\n",
    "data = data[data['frameNum'].apply(lambda x: x % FREQ == 0)]\n",
    "\n",
    "useful_data, v_ids = extract_info(data, V_TYPE)\n",
    "print(f\"Received data count: {len(useful_data)}\")"
   ]
  },
  {
   "cell_type": "code",
   "execution_count": 41,
   "metadata": {},
   "outputs": [
    {
     "name": "stdout",
     "output_type": "stream",
     "text": [
      "\n",
      "Relevant and useful data count: 30\n"
     ]
    }
   ],
   "source": [
    "import pandas as pd\n",
    "\n",
    "new_data = []\n",
    "\n",
    "speed_r = 0\n",
    "count_r = 0\n",
    "\n",
    "for index, group in useful_data.groupby(['carId']):\n",
    "    group = group.sort_values(by=['frameNum'])\n",
    "    # speed of the ego-vehicle in the next time step\n",
    "    group['next_speed'] = group['speed'].shift(-1)\n",
    "    group['speed_dif'] = group['next_speed'] - group['speed']\n",
    "    group.drop_duplicates(subset=['frameNum'])\n",
    "    # when the vehicles are stopped, the model can probably get confused on what is the right behavior\n",
    "    # Also, IDM is not designed for arterial driving but rather highway driving\n",
    "    group = group[(group.speed > 0.5)]\n",
    "    group = group[(group.next_speed > 0.5)]\n",
    "    # within a time step (1 second by default), there can't be an accelatation/decelerate more than 5 m/s^(-2)\n",
    "    group = group[(abs(group.speed_dif) < 5)]\n",
    "    new_data.append(group)\n",
    "    \n",
    "new_data = pd.concat(new_data)\n",
    "# the following row dropping is weired and not sure why it keep giving non-existing rows otherwise\n",
    "new_data = new_data[new_data.index < 414976] # drop all rows beyond what we have in the dataset\n",
    "# drop rows if there are any rows having NaNs for required features\n",
    "new_data.dropna(inplace=True, subset=[\"speed\", \"next_speed\", \"headway\", \"relative_speed\"])\n",
    "\n",
    "#new_data = new_data.iloc[0:30] \n",
    "print(f\"\\nRelevant and useful data count: {len(new_data)}\")\n",
    "\n",
    "if ENABLE_EXTRA_LOGGING:\n",
    "    # write the dataset to csv file for later inspection (if needed)\n",
    "    new_data.to_csv('out_final_data.csv', index=False)\n",
    "\n",
    "speed = new_data['speed'].values\n",
    "relative_speed = new_data['relative_speed'].values\n",
    "headway = new_data['headway'].values \n",
    "next_speed = new_data['next_speed'].values"
   ]
  },
  {
   "cell_type": "code",
   "execution_count": 42,
   "metadata": {},
   "outputs": [
    {
     "name": "stdout",
     "output_type": "stream",
     "text": [
      "Desired speed mean and std: 7.711582451248071 - 5.32429916013676\n",
      "Headway mean and std: 15.437513226148072 - 7.215732923147046\n",
      "Desired acceleration mean and std: 0.7666666666666667 - 0.4301830671520763\n",
      "Desired deceleration mean and std: 0.23333333333333334 - 0.43018306715207627\n"
     ]
    }
   ],
   "source": [
    "# direct stats from the dataset\n",
    "print(f\"Desired speed mean and std: {new_data['speed'].mean()} - {new_data['speed'].std()}\")\n",
    "print(f\"Headway mean and std: {new_data['headway'].mean()} - {new_data['headway'].std()}\")\n",
    "new_data['vel_diff'] = new_data['next_speed'] - new_data['speed']\n",
    "print(f\"Desired acceleration mean and std: {(new_data['vel_diff'] > 0).mean()} - {(new_data['vel_diff'] > 0).std()}\")\n",
    "print(f\"Desired deceleration mean and std: {(new_data['vel_diff'] < 0).mean()} - {(new_data['vel_diff'] < 0).std()}\")"
   ]
  },
  {
   "cell_type": "code",
   "execution_count": 43,
   "metadata": {},
   "outputs": [
    {
     "data": {
      "text/plain": [
       "array([[<AxesSubplot: title={'center': 'speed_dif'}>]], dtype=object)"
      ]
     },
     "execution_count": 43,
     "metadata": {},
     "output_type": "execute_result"
    },
    {
     "data": {
      "image/png": "[encoded data removed]",
      "text/plain": [
       "<Figure size 400x200 with 1 Axes>"
      ]
     },
     "metadata": {},
     "output_type": "display_data"
    },
    {
     "data": {
      "image/png": "[encoded data removed]",
      "text/plain": [
       "<Figure size 400x200 with 1 Axes>"
      ]
     },
     "metadata": {},
     "output_type": "display_data"
    },
    {
     "data": {
      "image/png": "[encoded data removed]",
      "text/plain": [
       "<Figure size 400x200 with 1 Axes>"
      ]
     },
     "metadata": {},
     "output_type": "display_data"
    },
    {
     "data": {
      "image/png": "[encoded data removed]",
      "text/plain": [
       "<Figure size 400x200 with 1 Axes>"
      ]
     },
     "metadata": {},
     "output_type": "display_data"
    }
   ],
   "source": [
    "# some further plotting of the stats taken from the dataset \n",
    "new_data.hist(column='speed', bins=25, grid=False, figsize=(4,2), color='#86bf91', zorder=2, rwidth=0.9)\n",
    "new_data.hist(column='headway', bins=25, grid=False, figsize=(4,2), color='red', zorder=2, rwidth=0.9)\n",
    "new_data.hist(column='relative_speed', bins=25, grid=False, figsize=(4,2), color='blue', zorder=2, rwidth=0.9)\n",
    "new_data.hist(column='speed_dif', bins=25, grid=False, figsize=(4,2), color='purple', zorder=2, rwidth=0.9)"
   ]
  },
  {
   "cell_type": "code",
   "execution_count": 44,
   "metadata": {},
   "outputs": [
    {
     "name": "stdout",
     "output_type": "stream",
     "text": [
      "training size: 30\n"
     ]
    },
    {
     "name": "stderr",
     "output_type": "stream",
     "text": [
      "Auto-assigning NUTS sampler...\n",
      "Initializing NUTS using jitter+adapt_diag_grad...\n",
      "Initializing NUTS using jitter+adapt_diag_grad...\n",
      "Multiprocess sampling (2 chains in 8 jobs)\n",
      "NUTS: [mu_normalized, log_s_v]\n"
     ]
    },
    {
     "name": "stderr",
     "output_type": "stream",
     "text": [
      "Sampling 2 chains for 1_000 tune and 1_000 draw iterations (2_000 + 2_000 draws total) took 18 seconds.\n"
     ]
    }
   ],
   "source": [
    "tr, model = Bayesian_IDM_pool(speed, headway, relative_speed, next_speed)"
   ]
  },
  {
   "cell_type": "code",
   "execution_count": 45,
   "metadata": {},
   "outputs": [
    {
     "data": {
      "text/html": [
       "<div>\n",
       "<style scoped>\n",
       "    .dataframe tbody tr th:only-of-type {\n",
       "        vertical-align: middle;\n",
       "    }\n",
       "\n",
       "    .dataframe tbody tr th {\n",
       "        vertical-align: top;\n",
       "    }\n",
       "\n",
       "    .dataframe thead th {\n",
       "        text-align: right;\n",
       "    }\n",
       "</style>\n",
       "<table border=\"1\" class=\"dataframe\">\n",
       "  <thead>\n",
       "    <tr style=\"text-align: right;\">\n",
       "      <th></th>\n",
       "      <th>mean</th>\n",
       "      <th>sd</th>\n",
       "      <th>hdi_3%</th>\n",
       "      <th>hdi_97%</th>\n",
       "      <th>mcse_mean</th>\n",
       "      <th>mcse_sd</th>\n",
       "      <th>ess_bulk</th>\n",
       "      <th>ess_tail</th>\n",
       "      <th>r_hat</th>\n",
       "    </tr>\n",
       "  </thead>\n",
       "  <tbody>\n",
       "    <tr>\n",
       "      <th>mu[0]</th>\n",
       "      <td>17.309</td>\n",
       "      <td>0.906</td>\n",
       "      <td>15.764</td>\n",
       "      <td>19.010</td>\n",
       "      <td>0.020</td>\n",
       "      <td>0.015</td>\n",
       "      <td>2104.0</td>\n",
       "      <td>1393.0</td>\n",
       "      <td>1.0</td>\n",
       "    </tr>\n",
       "    <tr>\n",
       "      <th>mu[1]</th>\n",
       "      <td>0.692</td>\n",
       "      <td>0.596</td>\n",
       "      <td>0.021</td>\n",
       "      <td>1.840</td>\n",
       "      <td>0.021</td>\n",
       "      <td>0.015</td>\n",
       "      <td>718.0</td>\n",
       "      <td>1098.0</td>\n",
       "      <td>1.0</td>\n",
       "    </tr>\n",
       "    <tr>\n",
       "      <th>mu[2]</th>\n",
       "      <td>0.572</td>\n",
       "      <td>0.135</td>\n",
       "      <td>0.311</td>\n",
       "      <td>0.818</td>\n",
       "      <td>0.004</td>\n",
       "      <td>0.003</td>\n",
       "      <td>1069.0</td>\n",
       "      <td>634.0</td>\n",
       "      <td>1.0</td>\n",
       "    </tr>\n",
       "    <tr>\n",
       "      <th>mu[3]</th>\n",
       "      <td>0.697</td>\n",
       "      <td>0.007</td>\n",
       "      <td>0.683</td>\n",
       "      <td>0.708</td>\n",
       "      <td>0.000</td>\n",
       "      <td>0.000</td>\n",
       "      <td>2372.0</td>\n",
       "      <td>1346.0</td>\n",
       "      <td>1.0</td>\n",
       "    </tr>\n",
       "    <tr>\n",
       "      <th>mu[4]</th>\n",
       "      <td>1.241</td>\n",
       "      <td>0.134</td>\n",
       "      <td>1.009</td>\n",
       "      <td>1.496</td>\n",
       "      <td>0.003</td>\n",
       "      <td>0.002</td>\n",
       "      <td>2023.0</td>\n",
       "      <td>1352.0</td>\n",
       "      <td>1.0</td>\n",
       "    </tr>\n",
       "    <tr>\n",
       "      <th>log_mu[0]</th>\n",
       "      <td>2.850</td>\n",
       "      <td>0.052</td>\n",
       "      <td>2.758</td>\n",
       "      <td>2.945</td>\n",
       "      <td>0.001</td>\n",
       "      <td>0.001</td>\n",
       "      <td>2104.0</td>\n",
       "      <td>1393.0</td>\n",
       "      <td>1.0</td>\n",
       "    </tr>\n",
       "    <tr>\n",
       "      <th>log_mu[1]</th>\n",
       "      <td>-0.808</td>\n",
       "      <td>1.036</td>\n",
       "      <td>-2.601</td>\n",
       "      <td>0.950</td>\n",
       "      <td>0.039</td>\n",
       "      <td>0.028</td>\n",
       "      <td>718.0</td>\n",
       "      <td>1098.0</td>\n",
       "      <td>1.0</td>\n",
       "    </tr>\n",
       "    <tr>\n",
       "      <th>log_mu[2]</th>\n",
       "      <td>-0.590</td>\n",
       "      <td>0.260</td>\n",
       "      <td>-1.063</td>\n",
       "      <td>-0.132</td>\n",
       "      <td>0.009</td>\n",
       "      <td>0.007</td>\n",
       "      <td>1069.0</td>\n",
       "      <td>634.0</td>\n",
       "      <td>1.0</td>\n",
       "    </tr>\n",
       "    <tr>\n",
       "      <th>log_mu[3]</th>\n",
       "      <td>-0.362</td>\n",
       "      <td>0.010</td>\n",
       "      <td>-0.379</td>\n",
       "      <td>-0.343</td>\n",
       "      <td>0.000</td>\n",
       "      <td>0.000</td>\n",
       "      <td>2372.0</td>\n",
       "      <td>1346.0</td>\n",
       "      <td>1.0</td>\n",
       "    </tr>\n",
       "    <tr>\n",
       "      <th>log_mu[4]</th>\n",
       "      <td>0.210</td>\n",
       "      <td>0.106</td>\n",
       "      <td>0.009</td>\n",
       "      <td>0.402</td>\n",
       "      <td>0.002</td>\n",
       "      <td>0.002</td>\n",
       "      <td>2023.0</td>\n",
       "      <td>1352.0</td>\n",
       "      <td>1.0</td>\n",
       "    </tr>\n",
       "  </tbody>\n",
       "</table>\n",
       "</div>"
      ],
      "text/plain": [
       "             mean     sd  hdi_3%  hdi_97%  mcse_mean  mcse_sd  ess_bulk  \\\n",
       "mu[0]      17.309  0.906  15.764   19.010      0.020    0.015    2104.0   \n",
       "mu[1]       0.692  0.596   0.021    1.840      0.021    0.015     718.0   \n",
       "mu[2]       0.572  0.135   0.311    0.818      0.004    0.003    1069.0   \n",
       "mu[3]       0.697  0.007   0.683    0.708      0.000    0.000    2372.0   \n",
       "mu[4]       1.241  0.134   1.009    1.496      0.003    0.002    2023.0   \n",
       "log_mu[0]   2.850  0.052   2.758    2.945      0.001    0.001    2104.0   \n",
       "log_mu[1]  -0.808  1.036  -2.601    0.950      0.039    0.028     718.0   \n",
       "log_mu[2]  -0.590  0.260  -1.063   -0.132      0.009    0.007    1069.0   \n",
       "log_mu[3]  -0.362  0.010  -0.379   -0.343      0.000    0.000    2372.0   \n",
       "log_mu[4]   0.210  0.106   0.009    0.402      0.002    0.002    2023.0   \n",
       "\n",
       "           ess_tail  r_hat  \n",
       "mu[0]        1393.0    1.0  \n",
       "mu[1]        1098.0    1.0  \n",
       "mu[2]         634.0    1.0  \n",
       "mu[3]        1346.0    1.0  \n",
       "mu[4]        1352.0    1.0  \n",
       "log_mu[0]    1393.0    1.0  \n",
       "log_mu[1]    1098.0    1.0  \n",
       "log_mu[2]     634.0    1.0  \n",
       "log_mu[3]    1346.0    1.0  \n",
       "log_mu[4]    1352.0    1.0  "
      ]
     },
     "execution_count": 45,
     "metadata": {},
     "output_type": "execute_result"
    }
   ],
   "source": [
    "az.summary(tr, var_names=[\"mu\",\"log_mu\"])"
   ]
  },
  {
   "cell_type": "code",
   "execution_count": 46,
   "metadata": {},
   "outputs": [],
   "source": [
    "df = tr.posterior.mu.to_dataframe()\n",
    "results = pd.DataFrame()\n",
    "for i in range(5):\n",
    "    col = df.iloc[df.index.get_level_values('mu_dim_0') == i, 0]\n",
    "    results['mu_{}'.format(i)] = list(col)"
   ]
  },
  {
   "cell_type": "code",
   "execution_count": 47,
   "metadata": {},
   "outputs": [
    {
     "data": {
      "text/plain": [
       "mu_0    17.309342\n",
       "mu_1     0.691562\n",
       "mu_2     0.571691\n",
       "mu_3     0.696570\n",
       "mu_4     1.240931\n",
       "dtype: float64"
      ]
     },
     "execution_count": 47,
     "metadata": {},
     "output_type": "execute_result"
    }
   ],
   "source": [
    "results.mean(axis=0)"
   ]
  },
  {
   "cell_type": "code",
   "execution_count": 48,
   "metadata": {},
   "outputs": [],
   "source": [
    "final_mean_params = results.mean(axis=0)"
   ]
  },
  {
   "cell_type": "code",
   "execution_count": 49,
   "metadata": {},
   "outputs": [
    {
     "data": {
      "text/html": [
       "<div>\n",
       "<style scoped>\n",
       "    .dataframe tbody tr th:only-of-type {\n",
       "        vertical-align: middle;\n",
       "    }\n",
       "\n",
       "    .dataframe tbody tr th {\n",
       "        vertical-align: top;\n",
       "    }\n",
       "\n",
       "    .dataframe thead th {\n",
       "        text-align: right;\n",
       "    }\n",
       "</style>\n",
       "<table border=\"1\" class=\"dataframe\">\n",
       "  <thead>\n",
       "    <tr style=\"text-align: right;\">\n",
       "      <th></th>\n",
       "      <th>mu_0</th>\n",
       "      <th>mu_1</th>\n",
       "      <th>mu_2</th>\n",
       "      <th>mu_3</th>\n",
       "      <th>mu_4</th>\n",
       "    </tr>\n",
       "  </thead>\n",
       "  <tbody>\n",
       "    <tr>\n",
       "      <th>mu_0</th>\n",
       "      <td>0.820044</td>\n",
       "      <td>-0.029130</td>\n",
       "      <td>0.032802</td>\n",
       "      <td>-0.000168</td>\n",
       "      <td>-0.006805</td>\n",
       "    </tr>\n",
       "    <tr>\n",
       "      <th>mu_1</th>\n",
       "      <td>-0.029130</td>\n",
       "      <td>0.355389</td>\n",
       "      <td>-0.041195</td>\n",
       "      <td>0.000146</td>\n",
       "      <td>-0.011104</td>\n",
       "    </tr>\n",
       "    <tr>\n",
       "      <th>mu_2</th>\n",
       "      <td>0.032802</td>\n",
       "      <td>-0.041195</td>\n",
       "      <td>0.018320</td>\n",
       "      <td>-0.000035</td>\n",
       "      <td>0.002536</td>\n",
       "    </tr>\n",
       "    <tr>\n",
       "      <th>mu_3</th>\n",
       "      <td>-0.000168</td>\n",
       "      <td>0.000146</td>\n",
       "      <td>-0.000035</td>\n",
       "      <td>0.000044</td>\n",
       "      <td>-0.000016</td>\n",
       "    </tr>\n",
       "    <tr>\n",
       "      <th>mu_4</th>\n",
       "      <td>-0.006805</td>\n",
       "      <td>-0.011104</td>\n",
       "      <td>0.002536</td>\n",
       "      <td>-0.000016</td>\n",
       "      <td>0.017854</td>\n",
       "    </tr>\n",
       "  </tbody>\n",
       "</table>\n",
       "</div>"
      ],
      "text/plain": [
       "          mu_0      mu_1      mu_2      mu_3      mu_4\n",
       "mu_0  0.820044 -0.029130  0.032802 -0.000168 -0.006805\n",
       "mu_1 -0.029130  0.355389 -0.041195  0.000146 -0.011104\n",
       "mu_2  0.032802 -0.041195  0.018320 -0.000035  0.002536\n",
       "mu_3 -0.000168  0.000146 -0.000035  0.000044 -0.000016\n",
       "mu_4 -0.006805 -0.011104  0.002536 -0.000016  0.017854"
      ]
     },
     "execution_count": 49,
     "metadata": {},
     "output_type": "execute_result"
    }
   ],
   "source": [
    "results.cov()"
   ]
  },
  {
   "cell_type": "code",
   "execution_count": 50,
   "metadata": {},
   "outputs": [
    {
     "name": "stdout",
     "output_type": "stream",
     "text": [
      "5870\r"
     ]
    }
   ],
   "source": [
    "# check the quality of learned models\n",
    "rdata = pd.DataFrame()\n",
    "for file in os.listdir('Alafaya'):\n",
    "    if file.endswith('.csv'):\n",
    "        rdata = rdata.append(pd.read_csv('Alafaya/University@Alafaya-01.csv'))\n",
    "rdata = rdata.reset_index()\n",
    "rdata = rdata[rdata['frameNum'].apply(lambda x: x % FREQ == 0)]\n",
    "\n",
    "ego_velocities, ego_heads, leader_velocities, leader_tails = extract_car_info(rdata, car_ids=v_ids) \n",
    "assert len(ego_velocities) == len(leader_velocities), \"Both ego-vehicle and leader velocities should be available for same number of steps\""
   ]
  },
  {
   "cell_type": "code",
   "execution_count": 51,
   "metadata": {},
   "outputs": [],
   "source": [
    "# simulations \n",
    "dt = (1 / 30) * FREQ\n",
    "def IDM_v(VMAX, DSAFE, TSAFE, AMAX, AMIN, DELTA, s, vt, dv):\n",
    "            sn = DSAFE + vt * TSAFE + vt * dv / (2 * np.sqrt(AMAX * AMIN))\n",
    "            a = AMAX * (1 - (vt / VMAX) ** DELTA - (sn / s) ** 2)\n",
    "            return vt + a * dt\n",
    "            \n",
    "VMAX = final_mean_params[0]\n",
    "DSAFE = final_mean_params[1]\n",
    "TSAFE = final_mean_params[2]\n",
    "AMAX = final_mean_params[3]\n",
    "AMIN = final_mean_params[4]\n",
    "DELTA = 4\n",
    "\n",
    "def simulate(ego_velocities, ego_heads, leader_velocities, leader_tails):\n",
    "    v = ego_velocities[0]\n",
    "    s = ego_heads[0]\n",
    "    d = s\n",
    "    delta_t = 1\n",
    "\n",
    "    simulated_ego_velocities = [v]\n",
    "    simulated_ego_heads = [s]\n",
    "    for i in range(len(ego_velocities)-1):\n",
    "        vt = v\n",
    "        dv = vt - leader_velocities[i]\n",
    "        s = leader_tails[i] - d\n",
    "        a = max(-1*AMIN, min(AMAX, IDM_v(VMAX, DSAFE, TSAFE, AMAX, AMIN, DELTA, s, vt, dv)))\n",
    "        u = vt\n",
    "        v = max(0, min(VMAX, u + a*delta_t))\n",
    "        d = min(leader_tails[i], max(d, d + v))\n",
    "        simulated_ego_velocities.append(v)\n",
    "        simulated_ego_heads.append(d)\n",
    "    \n",
    "    return simulated_ego_velocities, simulated_ego_heads\n"
   ]
  },
  {
   "cell_type": "code",
   "execution_count": 52,
   "metadata": {},
   "outputs": [
    {
     "name": "stdout",
     "output_type": "stream",
     "text": [
      "57.193359375\n"
     ]
    }
   ],
   "source": [
    "simulated_ego_velocities = {}\n",
    "simulated_ego_heads = {}\n",
    "for car in v_ids:\n",
    "    s_e_v, s_e_h = simulate(ego_velocities[car], ego_heads[car], leader_velocities[car], leader_tails[car])\n",
    "    simulated_ego_velocities[car] = s_e_v\n",
    "    simulated_ego_heads[car] = s_e_h\n",
    "\n",
    "import statistics as st\n",
    "print(st.mean(simulated_ego_velocities)/len(simulated_ego_velocities))"
   ]
  },
  {
   "cell_type": "code",
   "execution_count": 53,
   "metadata": {},
   "outputs": [],
   "source": [
    "v_error = 0 \n",
    "l_error = 0\n",
    "\n",
    "for car in v_ids:\n",
    "    for i in range(len(simulated_ego_velocities[car])):\n",
    "        v_error += ((simulated_ego_velocities[car][i] - ego_velocities[car][i])**2)**0.5\n",
    "        l_error += ((simulated_ego_heads[car][i] - ego_heads[car][i])**2)**0.5"
   ]
  },
  {
   "cell_type": "code",
   "execution_count": 54,
   "metadata": {},
   "outputs": [
    {
     "name": "stdout",
     "output_type": "stream",
     "text": [
      "Predicted desired velocity: 17.309341928624264\n",
      "Predicted minimum spacing: 0.6915621614768203\n",
      "Predicted desired time headway: 0.5716913708148281\n",
      "Predicted acceleration: 0.6965701267871068\n",
      "Predicted deceleration: 1.2409305254117207\n",
      "\n",
      "Per vehicle velocity RMSE: 34.046108207651535\n",
      "Per vehicle location RMSE: 310.30877105082266\n",
      "Desired speed mean and std: 7.711582451248071 - 5.32429916013676\n",
      "Headway mean and std: 15.437513226148072 - 7.215732923147046\n",
      "Desired acceleration mean and std: 0.7666666666666667 - 0.4301830671520763\n",
      "Desired deceleration mean and std: 0.23333333333333334 - 0.43018306715207627\n"
     ]
    }
   ],
   "source": [
    "print(f\"Predicted desired velocity: {final_mean_params[0]}\")\n",
    "print(f\"Predicted minimum spacing: {final_mean_params[1]}\")\n",
    "print(f\"Predicted desired time headway: {final_mean_params[2]}\")\n",
    "print(f\"Predicted acceleration: {final_mean_params[3]}\")\n",
    "print(f\"Predicted deceleration: {final_mean_params[4]}\")\n",
    "print(\"\")\n",
    "\n",
    "print(f\"Per vehicle velocity RMSE: {v_error/len(v_ids)}\")\n",
    "print(f\"Per vehicle location RMSE: {l_error/len(v_ids)}\")\n",
    "\n",
    "# direct stats from the dataset\n",
    "print(f\"Desired speed mean and std: {new_data['speed'].mean()} - {new_data['speed'].std()}\")\n",
    "print(f\"Headway mean and std: {new_data['headway'].mean()} - {new_data['headway'].std()}\")\n",
    "new_data['vel_diff'] = new_data['next_speed'] - new_data['speed']\n",
    "print(f\"Desired acceleration mean and std: {(new_data['vel_diff'] > 0).mean()} - {(new_data['vel_diff'] > 0).std()}\")\n",
    "print(f\"Desired deceleration mean and std: {(new_data['vel_diff'] < 0).mean()} - {(new_data['vel_diff'] < 0).std()}\")"
   ]
  },
  {
   "cell_type": "code",
   "execution_count": 55,
   "metadata": {},
   "outputs": [
    {
     "data": {
      "image/png": "[encoded data removed]",
      "text/plain": [
       "<Figure size 1500x400 with 2 Axes>"
      ]
     },
     "metadata": {},
     "output_type": "display_data"
    },
    {
     "data": {
      "image/png": "[encoded data removed]",
      "text/plain": [
       "<Figure size 1500x400 with 2 Axes>"
      ]
     },
     "metadata": {},
     "output_type": "display_data"
    }
   ],
   "source": [
    "car_to_plot = 0\n",
    "\n",
    "x = np.arange(len(simulated_ego_heads[v_ids[car_to_plot]]))\n",
    "\n",
    "fig, axs = plt.subplots(1,2)\n",
    "fig.set_figheight(4)\n",
    "fig.set_figwidth(15)\n",
    "\n",
    "\n",
    "axs[0].plot(x, simulated_ego_velocities[v_ids[car_to_plot]])\n",
    "axs[0].plot(x, leader_velocities[v_ids[car_to_plot]])\n",
    "axs[1].plot(x, ego_velocities[v_ids[car_to_plot]])\n",
    "axs[1].plot(x, leader_velocities[v_ids[car_to_plot]])\n",
    "\n",
    "axs[0].set_title('simulated velocities')\n",
    "axs[1].set_title('ground truth velocities')\n",
    "axs[0].set_xlabel('Time(s)')\n",
    "axs[0].set_ylabel('Velocity (m/s)')\n",
    "axs[1].set_xlabel('Time(s)')\n",
    "axs[1].set_ylabel('Velocity (m/s)')\n",
    "axs[0].legend(['Ego', 'Leader'])\n",
    "axs[1].legend(['Ego', 'Leader'])\n",
    "axs[0].set_ylim(0,35)\n",
    "axs[1].set_ylim(0,35)\n",
    "axs[0].grid()\n",
    "axs[1].grid()\n",
    "plt.show()\n",
    "\n",
    "fig, axs = plt.subplots(1,2)\n",
    "fig.set_figheight(4)\n",
    "fig.set_figwidth(15)\n",
    "\n",
    "axs[0].plot(x, simulated_ego_heads[v_ids[car_to_plot]])\n",
    "axs[0].plot(x, leader_tails[v_ids[car_to_plot]])\n",
    "axs[1].plot(x, ego_heads[v_ids[car_to_plot]])\n",
    "axs[1].plot(x, leader_tails[v_ids[car_to_plot]])\n",
    "\n",
    "axs[0].set_title('simulated locations')\n",
    "axs[1].set_title('ground truth locations')\n",
    "axs[0].set_xlabel('Time(s)')\n",
    "axs[0].set_ylabel('location (m)')\n",
    "axs[1].set_xlabel('Time(s)')\n",
    "axs[1].set_ylabel('locations (m)')\n",
    "axs[0].legend(['Ego', 'Leader'])\n",
    "axs[1].legend(['Ego', 'Leader'])\n",
    "axs[0].set_ylim(0,200)\n",
    "axs[1].set_ylim(0,200)\n",
    "axs[0].grid()\n",
    "axs[1].grid()\n",
    "plt.show()\n"
   ]
  },
  {
   "cell_type": "code",
   "execution_count": 56,
   "metadata": {},
   "outputs": [],
   "source": [
    "df = tr.posterior.mu.to_dataframe()\n",
    "results = pd.DataFrame()\n",
    "for i in range(5):\n",
    "    col = df.iloc[df.index.get_level_values('mu_dim_0') == i, 0]\n",
    "    results['mu_{}'.format(i)] = list(col)\n",
    "results.to_csv(f'idm_{V_TYPE.lower()}.csv', index=False)"
   ]
  }
 ],
 "metadata": {
  "kernelspec": {
   "display_name": "idm-calib",
   "language": "python",
   "name": "python3"
  },
  "language_info": {
   "codemirror_mode": {
    "name": "ipython",
    "version": 3
   },
   "file_extension": ".py",
   "mimetype": "text/x-python",
   "name": "python",
   "nbconvert_exporter": "python",
   "pygments_lexer": "ipython3",
   "version": "3.9.15"
  },
  "vscode": {
   "interpreter": {
    "hash": "8e37b4a92fce18aa86cfe955b49f2e1d02f52ae0b692dfa3c3a5cd324143317e"
   }
  }
 },
 "nbformat": 4,
 "nbformat_minor": 2
}
